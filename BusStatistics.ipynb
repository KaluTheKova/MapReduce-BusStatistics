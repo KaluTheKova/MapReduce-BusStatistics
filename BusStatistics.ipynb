{
 "cells": [
  {
   "cell_type": "code",
   "execution_count": 6,
   "metadata": {},
   "outputs": [
    {
     "name": "stdout",
     "output_type": "stream",
     "text": [
      "Overwriting BusStatistics.py\n"
     ]
    }
   ],
   "source": [
    "%%writefile BusStatistics.py\n",
    "\n",
    "from mrjob.job import MRJob\n",
    "from mrjob.protocol import TextValueProtocol\n",
    "import numpy as np\n",
    "\n",
    "class BusStatistics(MRJob):\n",
    "    OUTPUT_PROTOCOL = TextValueProtocol # https://pythonhosted.org/mrjob/protocols.html#mrjob.protocol.TextValueProtocol\n",
    "    \n",
    "    def mapper(self, key, line):\n",
    "        parts = line.split(\",\")\n",
    "       \n",
    "        date = parts[0][8:10] # Clean the string by slicing.\n",
    "        time = parts[0][11:13] # Clean the string by slicing.\n",
    "        lineref = parts[1]\n",
    "        speed = parts[14]\n",
    "\n",
    "        if date == \"25\" and time.isdigit(): # Drop the few lines that are from the previous day and the header.\n",
    "            hour = int(time)\n",
    "            if hour < 9:\n",
    "                time = f\"0{hour}:00-0{hour+1}:00\"\n",
    "            elif hour == 9:\n",
    "                time = f\"0{hour}:00-{hour+1}:00\"\n",
    "            else:\n",
    "                time = f\"{hour}:00-{hour+1}:00\"\n",
    "                \n",
    "            yield (lineref + \";\" + time), speed\n",
    "        \n",
    "    def reducer(self, key, values):\n",
    "        # This way we get the line, hours and speed to output\n",
    "        speeds = list(values)\n",
    "        speeds = list(map(float, speeds)) # Conver to float so numpy works.\n",
    "        line, interval = key.split(\";\")\n",
    "        # Use round() to round mean and variance.\n",
    "        yield None, f\"{line};{interval};{min(speeds)};{max(speeds)};{np.mean(speeds).round()};{np.var(speeds).round()}\"\n",
    "        \n",
    "\n",
    "if __name__ == '__main__':\n",
    "    BusStatistics.run()"
   ]
  },
  {
   "cell_type": "code",
   "execution_count": 7,
   "metadata": {},
   "outputs": [
    {
     "name": "stderr",
     "output_type": "stream",
     "text": [
      "No configs found; falling back on auto-configuration\n",
      "No configs found; falling back on auto-configuration\n",
      "No configs found; falling back on auto-configuration\n",
      "No configs found; falling back on auto-configuration\n",
      "No configs found; falling back on auto-configuration\n",
      "No configs specified for inline runner\n",
      "No configs specified for inline runner\n",
      "No configs specified for inline runner\n",
      "No configs specified for inline runner\n",
      "No configs specified for inline runner\n",
      "Running step 1 of 1...\n",
      "Running step 1 of 1...\n",
      "Running step 1 of 1...\n",
      "Running step 1 of 1...\n",
      "Running step 1 of 1...\n",
      "Creating temp directory C:\\Users\\OMISTAJA\\AppData\\Local\\Temp\\BusStatistics.OMISTAJA.20200207.072215.179871\n",
      "Creating temp directory C:\\Users\\OMISTAJA\\AppData\\Local\\Temp\\BusStatistics.OMISTAJA.20200207.072215.179871\n",
      "Creating temp directory C:\\Users\\OMISTAJA\\AppData\\Local\\Temp\\BusStatistics.OMISTAJA.20200207.072215.179871\n",
      "Creating temp directory C:\\Users\\OMISTAJA\\AppData\\Local\\Temp\\BusStatistics.OMISTAJA.20200207.072215.179871\n",
      "Creating temp directory C:\\Users\\OMISTAJA\\AppData\\Local\\Temp\\BusStatistics.OMISTAJA.20200207.072215.179871\n",
      "job output is in C:\\Users\\OMISTAJA\\AppData\\Local\\Temp\\BusStatistics.OMISTAJA.20200207.072215.179871\\output\n",
      "job output is in C:\\Users\\OMISTAJA\\AppData\\Local\\Temp\\BusStatistics.OMISTAJA.20200207.072215.179871\\output\n",
      "job output is in C:\\Users\\OMISTAJA\\AppData\\Local\\Temp\\BusStatistics.OMISTAJA.20200207.072215.179871\\output\n",
      "job output is in C:\\Users\\OMISTAJA\\AppData\\Local\\Temp\\BusStatistics.OMISTAJA.20200207.072215.179871\\output\n",
      "job output is in C:\\Users\\OMISTAJA\\AppData\\Local\\Temp\\BusStatistics.OMISTAJA.20200207.072215.179871\\output\n",
      "Streaming final output from C:\\Users\\OMISTAJA\\AppData\\Local\\Temp\\BusStatistics.OMISTAJA.20200207.072215.179871\\output...\n",
      "Streaming final output from C:\\Users\\OMISTAJA\\AppData\\Local\\Temp\\BusStatistics.OMISTAJA.20200207.072215.179871\\output...\n",
      "Streaming final output from C:\\Users\\OMISTAJA\\AppData\\Local\\Temp\\BusStatistics.OMISTAJA.20200207.072215.179871\\output...\n",
      "Streaming final output from C:\\Users\\OMISTAJA\\AppData\\Local\\Temp\\BusStatistics.OMISTAJA.20200207.072215.179871\\output...\n",
      "Streaming final output from C:\\Users\\OMISTAJA\\AppData\\Local\\Temp\\BusStatistics.OMISTAJA.20200207.072215.179871\\output...\n"
     ]
    },
    {
     "name": "stdout",
     "output_type": "stream",
     "text": [
      "17;01:00-02:00;0.0;54.0;42.0;278.0\n",
      "1;01:00-02:00;0.0;68.4;31.0;459.0\n",
      "28Y;01:00-02:00;57.6;68.4;63.0;10.0\n",
      "3;01:00-02:00;0.0;79.2;25.0;466.0\n",
      "9;01:00-02:00;0.0;10.8;2.0;13.0\n"
     ]
    },
    {
     "name": "stderr",
     "output_type": "stream",
     "text": [
      "Removing temp directory C:\\Users\\OMISTAJA\\AppData\\Local\\Temp\\BusStatistics.OMISTAJA.20200207.072215.179871...\n",
      "Removing temp directory C:\\Users\\OMISTAJA\\AppData\\Local\\Temp\\BusStatistics.OMISTAJA.20200207.072215.179871...\n",
      "Removing temp directory C:\\Users\\OMISTAJA\\AppData\\Local\\Temp\\BusStatistics.OMISTAJA.20200207.072215.179871...\n",
      "Removing temp directory C:\\Users\\OMISTAJA\\AppData\\Local\\Temp\\BusStatistics.OMISTAJA.20200207.072215.179871...\n",
      "Removing temp directory C:\\Users\\OMISTAJA\\AppData\\Local\\Temp\\BusStatistics.OMISTAJA.20200207.072215.179871...\n"
     ]
    }
   ],
   "source": [
    "%run BusStatistics.py journeys*.csv"
   ]
  }
 ],
 "metadata": {
  "kernelspec": {
   "display_name": "Python 3",
   "language": "python",
   "name": "python3"
  },
  "language_info": {
   "codemirror_mode": {
    "name": "ipython",
    "version": 3
   },
   "file_extension": ".py",
   "mimetype": "text/x-python",
   "name": "python",
   "nbconvert_exporter": "python",
   "pygments_lexer": "ipython3",
   "version": "3.7.0"
  }
 },
 "nbformat": 4,
 "nbformat_minor": 2
}
